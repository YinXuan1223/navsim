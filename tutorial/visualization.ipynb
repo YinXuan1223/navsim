{
 "cells": [
  {
   "cell_type": "markdown",
   "id": "0b9275df",
   "metadata": {},
   "source": [
    "## Config"
   ]
  },
  {
   "cell_type": "code",
   "execution_count": 1,
   "id": "e8bf0838",
   "metadata": {},
   "outputs": [
    {
     "name": "stdout",
     "output_type": "stream",
     "text": [
      "\n",
      "After setting:\n",
      "NUPLAN_MAPS_ROOT: /mnt/hdd8/navsim_dataset/maps\n",
      "NUPLAN_MAP_VERSION: nuplan-maps-v1.0\n",
      "OPENSCENE_DATA_ROOT: /mnt/hdd8/navsim_dataset\n"
     ]
    }
   ],
   "source": [
    "import os\n",
    "\n",
    "# Force set environment variables (this is essential for Jupyter notebooks)\n",
    "os.environ['NUPLAN_MAPS_ROOT'] = '/mnt/hdd8/navsim_dataset/maps'\n",
    "os.environ['NUPLAN_MAP_VERSION'] = 'nuplan-maps-v1.0'\n",
    "os.environ['OPENSCENE_DATA_ROOT'] = '/mnt/hdd8/navsim_dataset'\n",
    "\n",
    "print(\"\\nAfter setting:\")\n",
    "print(f\"NUPLAN_MAPS_ROOT: {os.getenv('NUPLAN_MAPS_ROOT')}\")\n",
    "print(f\"NUPLAN_MAP_VERSION: {os.getenv('NUPLAN_MAP_VERSION')}\")\n",
    "print(f\"OPENSCENE_DATA_ROOT: {os.getenv('OPENSCENE_DATA_ROOT')}\")"
   ]
  },
  {
   "cell_type": "code",
   "execution_count": null,
   "id": "8d9e5c3f",
   "metadata": {},
   "outputs": [
    {
     "name": "stderr",
     "output_type": "stream",
     "text": [
      "/tmp/ipykernel_865950/2741946232.py:12: UserWarning: \n",
      "The version_base parameter is not specified.\n",
      "Please specify a compatability version level, or None.\n",
      "Will assume defaults for version 1.1\n",
      "  hydra.initialize(\n",
      "Loading logs: 100%|██████████| 64/64 [00:32<00:00,  1.94it/s]\n"
     ]
    }
   ],
   "source": [
    "from pathlib import Path\n",
    "import hydra\n",
    "from hydra.utils import instantiate\n",
    "from navsim.common.dataloader import SceneLoader\n",
    "from navsim.common.dataclasses import SceneFilter, SensorConfig\n",
    "\n",
    "SPLIT = \"mini\"  # [\"mini\", \"test\", \"trainval\"]\n",
    "FILTER = \"all_scenes\"\n",
    "\n",
    "hydra.initialize(\n",
    "    config_path=\"../navsim/planning/script/config/common/train_test_split/scene_filter\"\n",
    ")\n",
    "cfg = hydra.compose(config_name=FILTER)\n",
    "scene_filter: SceneFilter = instantiate(cfg)\n",
    "openscene_data_root = Path(os.getenv(\"OPENSCENE_DATA_ROOT\"))\n",
    "\n",
    "scene_loader = SceneLoader(\n",
    "    openscene_data_root / f\"navsim_logs/{SPLIT}\", # data_path\n",
    "    openscene_data_root / f\"sensor_blobs/{SPLIT}\", # original_sensor_path\n",
    "    scene_filter,\n",
    "    openscene_data_root / \"warmup_two_stage/sensor_blobs\", # synthetic_sensor_path\n",
    "    openscene_data_root / \"warmup_two_stage/synthetic_scene_pickles\", # synthetic_scenes_path\n",
    "    sensor_config=SensorConfig.build_all_sensors(),\n",
    ")"
   ]
  },
  {
   "cell_type": "markdown",
   "id": "db431533",
   "metadata": {},
   "source": [
    "## Print PDM with single token"
   ]
  },
  {
   "cell_type": "code",
   "execution_count": null,
   "id": "284b3c9e",
   "metadata": {},
   "outputs": [],
   "source": [
    "# Select token from metric cache\n",
    "# You can modify the path to any cache\n",
    "\n",
    "import numpy as np\n",
    "from pathlib import Path\n",
    "from navsim.common.dataloader import MetricCacheLoader\n",
    "\n",
    "workspace_cache = Path(\"/mnt/hdd5/Qiaoceng/navsim_workspace/exp/metric_cache\")\n",
    "cache_loader = MetricCacheLoader(workspace_cache)\n",
    "available_tokens = cache_loader.tokens\n",
    "\n",
    "token = np.random.choice(available_tokens)\n",
    "scene = scene_loader.get_scene_from_token(token)\n",
    "print(f\"🎯 Selected token from cache: {token}\")\n",
    "\n",
    "metric_cache = cache_loader.get_from_token(token)\n",
    "print(\"✅ Successfully loaded scene and metric cache!\")"
   ]
  },
  {
   "cell_type": "code",
   "execution_count": null,
   "id": "3131392b",
   "metadata": {},
   "outputs": [],
   "source": [
    "# Plot BEV with agent\n",
    "\n",
    "# from navsim.agents.constant_velocity_agent import ConstantVelocityAgent\n",
    "from navsim.agents.transfuser.transfuser_agent import TransfuserAgent\n",
    "from navsim.agents.transfuser.transfuser_config import TransfuserConfig\n",
    "from navsim.visualization.plots import plot_bev_with_agent\n",
    "import matplotlib.pyplot as plt\n",
    "\n",
    "# agent = ConstantVelocityAgent()\n",
    "config = TransfuserConfig()\n",
    "config.checkpoint_path = \"../model/LatentTransfuser_mini/0830.ckpt\"\n",
    "agent = TransfuserAgent(config, scene)\n",
    "fig, ax = plot_bev_with_agent(scene, agent)\n",
    "plt.title(f\"Scene token: {token}\")\n",
    "plt.show()"
   ]
  },
  {
   "cell_type": "code",
   "execution_count": null,
   "id": "ff14d5bc",
   "metadata": {},
   "outputs": [],
   "source": [
    "# Compute PDM score\n",
    "\n",
    "from navsim.evaluate.pdm_score import pdm_score\n",
    "from navsim.planning.simulation.planner.pdm_planner.simulation.pdm_simulator import PDMSimulator\n",
    "from navsim.planning.simulation.planner.pdm_planner.scoring.pdm_scorer import PDMScorer, PDMScorerConfig\n",
    "from navsim.traffic_agents_policies.navsim_IDM_traffic_agents import NavsimIDMTrafficAgents\n",
    "from navsim.planning.simulation.observation.navsim_idm_agents import NavsimIDMAgents\n",
    "from nuplan.planning.simulation.trajectory.trajectory_sampling import TrajectorySampling\n",
    "\n",
    "print(\"🚀 Setting up PDM score components...\")\n",
    "agent_input = scene.get_agent_input()\n",
    "if agent.requires_scene:\n",
    "    trajectory = agent.compute_trajectory(agent_input, scene)\n",
    "else:\n",
    "    trajectory = agent.compute_trajectory(agent_input)\n",
    "\n",
    "proposal_sampling = TrajectorySampling(num_poses=40, interval_length=0.1)\n",
    "simulator = PDMSimulator(proposal_sampling=proposal_sampling)\n",
    "\n",
    "scorer_config = PDMScorerConfig(\n",
    "    progress_weight=5.0,\n",
    "    ttc_weight=5.0,\n",
    "    lane_keeping_weight=2.0,\n",
    "    history_comfort_weight=2.0,\n",
    "    two_frame_extended_comfort_weight=2.0,\n",
    "    driving_direction_horizon=1.0,\n",
    "    driving_direction_compliance_threshold=2.0,\n",
    "    driving_direction_violation_threshold=6.0,\n",
    "    stopped_speed_threshold=5e-03,\n",
    "    future_collision_horizon_window=1.0,\n",
    "    progress_distance_threshold=5.0,\n",
    "    lane_keeping_deviation_limit=0.5,\n",
    "    lane_keeping_horizon_window=2.0,\n",
    "    human_penalty_filter=True\n",
    ")\n",
    "scorer = PDMScorer(proposal_sampling=proposal_sampling, config=scorer_config)\n",
    "\n",
    "idm_agents = NavsimIDMAgents(\n",
    "    target_velocity=10,\n",
    "    min_gap_to_lead_agent=1.0,\n",
    "    headway_time=1.5,\n",
    "    accel_max=1.0,\n",
    "    decel_max=2.0,\n",
    "    open_loop_detections_types=[],\n",
    "    minimum_path_length=20,\n",
    "    planned_trajectory_samples=None,\n",
    "    planned_trajectory_sample_interval=None,\n",
    "    radius=100,\n",
    "    add_open_loop_parked_vehicles=True,\n",
    "    idm_snap_threshold=3.0\n",
    ")\n",
    "traffic_agents_policy = NavsimIDMTrafficAgents(\n",
    "    idm_agents_observation=idm_agents,\n",
    "    future_trajectory_sampling=simulator.proposal_sampling\n",
    ")\n",
    "\n",
    "print(\"📊 Computing PDM score...\")\n",
    "score_result = pdm_score(\n",
    "    metric_cache=metric_cache,\n",
    "    model_trajectory=trajectory,\n",
    "    future_sampling=simulator.proposal_sampling,\n",
    "    simulator=simulator,\n",
    "    scorer=scorer,\n",
    "    traffic_agents_policy=traffic_agents_policy\n",
    ")\n",
    "\n",
    "print(\"✅ PDM score computation done!\")"
   ]
  },
  {
   "cell_type": "code",
   "execution_count": null,
   "id": "d91409a6",
   "metadata": {},
   "outputs": [],
   "source": [
    "# Add pdm score on the BEV plot\n",
    "\n",
    "fig, ax = plot_bev_with_agent(scene, agent)\n",
    "plt.subplots_adjust(top = 0.8)  # Adjust top to make space for the text\n",
    "plt.title(f\"Scene token: {token}\")\n",
    "\n",
    "if isinstance(score_result, tuple) and len(score_result) == 2:\n",
    "    score_df, _ = score_result\n",
    "plt.figtext(0.5, 0.855,\n",
    "           f\"Ego Progress: {score_df['ego_progress'].iloc[0]:.3f}\", \n",
    "           ha='center', fontsize=8)\n",
    "\n",
    "plt.show()"
   ]
  },
  {
   "cell_type": "markdown",
   "id": "f889691d",
   "metadata": {},
   "source": [
    "## Check Agent Load"
   ]
  },
  {
   "cell_type": "code",
   "execution_count": null,
   "id": "46a19b1f",
   "metadata": {},
   "outputs": [],
   "source": [
    "# 在現有代碼的最後添加：\n",
    "try:\n",
    "    if 'agent' in globals():\n",
    "        print(f\"🤖 Agent 檢查:\")\n",
    "        print(f\"   Agent 類型: {type(agent).__name__}\")\n",
    "        if hasattr(agent, '_transfuser_model'):\n",
    "            model_loaded = agent._transfuser_model is not None\n",
    "            print(f\"   模型已載入: {model_loaded}\")\n",
    "            if hasattr(agent, 'config') and hasattr(agent.config, 'checkpoint_path'):\n",
    "                print(f\"   模型路徑: {agent.config.checkpoint_path}\")\n",
    "        else:\n",
    "            print(f\"   Agent 沒有 _transfuser_model 屬性\")\n",
    "    else:\n",
    "        print(\"⚠️ Agent 尚未創建\")\n",
    "except Exception as e:\n",
    "    print(f\"❌ Agent 檢查失敗: {e}\")"
   ]
  },
  {
   "cell_type": "code",
   "execution_count": null,
   "id": "823fe93b",
   "metadata": {},
   "outputs": [],
   "source": [
    "# 檢查模型文件\n",
    "model_path = Path(\"../model/LatentTransfuser_mini/0830.ckpt\")\n",
    "print(f\"📁 模型文件檢查:\")\n",
    "print(f\"   路徑: {model_path}\")\n",
    "print(f\"   存在: {model_path.exists()}\")\n",
    "if model_path.exists():\n",
    "    size_mb = model_path.stat().st_size / (1024*1024)\n",
    "    print(f\"   大小: {size_mb:.1f} MB\")"
   ]
  },
  {
   "cell_type": "code",
   "execution_count": null,
   "id": "50bd76da",
   "metadata": {},
   "outputs": [],
   "source": [
    "import torch\n",
    "try:\n",
    "    model_data = torch.load(\"../model/LatentTransfuser_mini/0830.ckpt\", map_location='cpu')\n",
    "    print(\"✅ 模型文件可以被 PyTorch 載入\")\n",
    "    print(f\"   模型keys: {list(model_data.keys())}\")\n",
    "except Exception as e:\n",
    "    print(f\"❌ 模型文件載入失敗: {e}\")"
   ]
  },
  {
   "cell_type": "code",
   "execution_count": null,
   "id": "337cd77e",
   "metadata": {},
   "outputs": [],
   "source": [
    "# 調試 TransfuserAgent 模型載入\n",
    "try:\n",
    "    # 重新創建一個 agent，但捕獲所有輸出\n",
    "    print(\"🔧 調試 TransfuserAgent 載入過程...\")\n",
    "    \n",
    "    test_config = TransfuserConfig()\n",
    "    test_config.checkpoint_path = \"../model/LatentTransfuser_mini/0830.ckpt\"\n",
    "    \n",
    "    # 檢查 TransfuserAgent 的 __init__ 方法\n",
    "    print(\"📝 開始創建 TransfuserAgent...\")\n",
    "    test_agent = TransfuserAgent(test_config, scene)\n",
    "    \n",
    "    # 檢查 agent 的所有屬性\n",
    "    print(f\"🔍 Agent 屬性檢查:\")\n",
    "    for attr in dir(test_agent):\n",
    "        if not attr.startswith('_'):\n",
    "            continue\n",
    "        if 'model' in attr.lower():\n",
    "            value = getattr(test_agent, attr, None)\n",
    "            print(f\"   {attr}: {type(value)} = {value}\")\n",
    "    \n",
    "    # 嘗試手動載入到 agent\n",
    "    print(f\"🛠️ 嘗試手動設置模型...\")\n",
    "    model_data = torch.load(\"../model/LatentTransfuser_mini/0830.ckpt\", map_location='cpu')\n",
    "    print(f\"   State dict keys: {len(model_data['state_dict'])} 個參數\")\n",
    "    \n",
    "except Exception as e:\n",
    "    print(f\"❌ 調試失敗: {e}\")\n",
    "    import traceback\n",
    "    traceback.print_exc()"
   ]
  }
 ],
 "metadata": {
  "kernelspec": {
   "display_name": "navsim",
   "language": "python",
   "name": "python3"
  },
  "language_info": {
   "codemirror_mode": {
    "name": "ipython",
    "version": 3
   },
   "file_extension": ".py",
   "mimetype": "text/x-python",
   "name": "python",
   "nbconvert_exporter": "python",
   "pygments_lexer": "ipython3",
   "version": "3.9.23"
  }
 },
 "nbformat": 4,
 "nbformat_minor": 5
}
